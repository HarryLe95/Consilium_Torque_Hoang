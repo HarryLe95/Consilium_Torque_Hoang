{
 "cells": [
  {
   "cell_type": "code",
   "execution_count": 1,
   "metadata": {},
   "outputs": [],
   "source": [
    "import boto3\n",
<<<<<<< HEAD
    "import matplotlib.pyplot as plt \n",
    "import numpy as np \n",
    "import pandas as pd \n",
    "from utils.PathManager import PathManager\n",
    "from Dataset.DataOperator import TorqueOperator\n",
    "from utils.advancedanalytics_util import aauconnect_\n",
    "import config.__config__ as base_config\n",
    "config = base_config.init()\n"
=======
    "import numpy as np \n",
    "import pandas as pd \n",
    "from utils.PathManager import PathManager\n",
    "from Dataset.Dataset import Dataset\n",
    "from utils.advancedanalytics_util import aauconnect_\n",
    "from Debugging_Tools.S3Manager import S3Manager"
>>>>>>> 5a97d8fc5a28ec8663078b5c253462e9e0bdc3e0
   ]
  },
  {
   "cell_type": "code",
   "execution_count": 2,
   "metadata": {},
   "outputs": [],
   "source": [
<<<<<<< HEAD
    "dataset = TorqueOperator(**config[\"data_connection_info_\"], **config[\"torque_info\"])"
=======
    "manager = S3Manager.from_config()"
   ]
  },
  {
   "cell_type": "code",
   "execution_count": 27,
   "metadata": {},
   "outputs": [
    {
     "data": {
      "text/plain": [
       "['TORQUE/TAG_DATA/RM02-09-1_TRQ_TAG_DATA_20110701_20110801.csv',\n",
       " 'TORQUE/TAG_DATA/RM02-09-1_TRQ_TAG_DATA_20110801_20110901.csv',\n",
       " 'TORQUE/TAG_DATA/RM02-09-1_TRQ_TAG_DATA_20110901_20111001.csv',\n",
       " 'TORQUE/TAG_DATA/RM02-09-1_TRQ_TAG_DATA_20111001_20111101.csv',\n",
       " 'TORQUE/TAG_DATA/RM02-09-1_TRQ_TAG_DATA_20111101_20111201.csv',\n",
       " 'TORQUE/TAG_DATA/RM02-09-1_TRQ_TAG_DATA_20111201_20120101.csv',\n",
       " 'TORQUE/TAG_DATA/RM02-09-1_TRQ_TAG_DATA_20120101_20120201.csv',\n",
       " 'TORQUE/TAG_DATA/RM02-09-1_TRQ_TAG_DATA_20120201_20120301.csv',\n",
       " 'TORQUE/TAG_DATA/RM02-09-1_TRQ_TAG_DATA_20120301_20120401.csv',\n",
       " 'TORQUE/TAG_DATA/RM02-09-1_TRQ_TAG_DATA_20120401_20120501.csv',\n",
       " 'TORQUE/TAG_DATA/RM02-09-1_TRQ_TAG_DATA_20120501_20120601.csv',\n",
       " 'TORQUE/TAG_DATA/RM02-09-1_TRQ_TAG_DATA_20120601_20120701.csv',\n",
       " 'TORQUE/TAG_DATA/RM02-09-1_TRQ_TAG_DATA_20120701_20120801.csv',\n",
       " 'TORQUE/TAG_DATA/RM02-09-1_TRQ_TAG_DATA_20120801_20120901.csv',\n",
       " 'TORQUE/TAG_DATA/RM02-09-1_TRQ_TAG_DATA_20120901_20121001.csv',\n",
       " 'TORQUE/TAG_DATA/RM02-09-1_TRQ_TAG_DATA_20121001_20121101.csv',\n",
       " 'TORQUE/TAG_DATA/RM02-09-1_TRQ_TAG_DATA_20121101_20121201.csv',\n",
       " 'TORQUE/TAG_DATA/RM02-09-1_TRQ_TAG_DATA_20121201_20130101.csv',\n",
       " 'TORQUE/TAG_DATA/RM02-09-1_TRQ_TAG_DATA_20130101_20130201.csv',\n",
       " 'TORQUE/TAG_DATA/RM02-09-1_TRQ_TAG_DATA_20130201_20130301.csv',\n",
       " 'TORQUE/TAG_DATA/RM02-09-1_TRQ_TAG_DATA_20130301_20130401.csv',\n",
       " 'TORQUE/TAG_DATA/RM02-09-1_TRQ_TAG_DATA_20130401_20130501.csv',\n",
       " 'TORQUE/TAG_DATA/RM02-09-1_TRQ_TAG_DATA_20130501_20130601.csv',\n",
       " 'TORQUE/TAG_DATA/RM02-09-1_TRQ_TAG_DATA_20130601_20130701.csv',\n",
       " 'TORQUE/TAG_DATA/RM02-09-1_TRQ_TAG_DATA_20130701_20130801.csv',\n",
       " 'TORQUE/TAG_DATA/RM02-09-1_TRQ_TAG_DATA_20130801_20130901.csv',\n",
       " 'TORQUE/TAG_DATA/RM02-09-1_TRQ_TAG_DATA_20130901_20131001.csv',\n",
       " 'TORQUE/TAG_DATA/RM02-09-1_TRQ_TAG_DATA_20131001_20131101.csv',\n",
       " 'TORQUE/TAG_DATA/RM02-09-1_TRQ_TAG_DATA_20131101_20131201.csv',\n",
       " 'TORQUE/TAG_DATA/RM02-09-1_TRQ_TAG_DATA_20131201_20140101.csv',\n",
       " 'TORQUE/TAG_DATA/RM02-09-1_TRQ_TAG_DATA_20140101_20140201.csv',\n",
       " 'TORQUE/TAG_DATA/RM02-09-1_TRQ_TAG_DATA_20140201_20140301.csv',\n",
       " 'TORQUE/TAG_DATA/RM02-09-1_TRQ_TAG_DATA_20140301_20140401.csv',\n",
       " 'TORQUE/TAG_DATA/RM02-09-1_TRQ_TAG_DATA_20140401_20140501.csv',\n",
       " 'TORQUE/TAG_DATA/RM02-09-1_TRQ_TAG_DATA_20140501_20140601.csv',\n",
       " 'TORQUE/TAG_DATA/RM02-09-1_TRQ_TAG_DATA_20140601_20140701.csv',\n",
       " 'TORQUE/TAG_DATA/RM02-09-1_TRQ_TAG_DATA_20140701_20140801.csv',\n",
       " 'TORQUE/TAG_DATA/RM02-09-1_TRQ_TAG_DATA_20140801_20140901.csv',\n",
       " 'TORQUE/TAG_DATA/RM02-09-1_TRQ_TAG_DATA_20140901_20141001.csv',\n",
       " 'TORQUE/TAG_DATA/RM02-09-1_TRQ_TAG_DATA_20141001_20141101.csv',\n",
       " 'TORQUE/TAG_DATA/RM02-09-1_TRQ_TAG_DATA_20141101_20141201.csv',\n",
       " 'TORQUE/TAG_DATA/RM02-09-1_TRQ_TAG_DATA_20141201_20150101.csv',\n",
       " 'TORQUE/TAG_DATA/RM02-09-1_TRQ_TAG_DATA_20150101_20150201.csv',\n",
       " 'TORQUE/TAG_DATA/RM02-09-1_TRQ_TAG_DATA_20150201_20150301.csv',\n",
       " 'TORQUE/TAG_DATA/RM02-09-1_TRQ_TAG_DATA_20150301_20150401.csv',\n",
       " 'TORQUE/TAG_DATA/RM02-09-1_TRQ_TAG_DATA_20150401_20150501.csv',\n",
       " 'TORQUE/TAG_DATA/RM02-09-1_TRQ_TAG_DATA_20150501_20150601.csv',\n",
       " 'TORQUE/TAG_DATA/RM02-09-1_TRQ_TAG_DATA_20150601_20150701.csv',\n",
       " 'TORQUE/TAG_DATA/RM02-09-1_TRQ_TAG_DATA_20150701_20150801.csv',\n",
       " 'TORQUE/TAG_DATA/RM02-09-1_TRQ_TAG_DATA_20150801_20150901.csv',\n",
       " 'TORQUE/TAG_DATA/RM02-09-1_TRQ_TAG_DATA_20150901_20151001.csv',\n",
       " 'TORQUE/TAG_DATA/RM02-09-1_TRQ_TAG_DATA_20151001_20151101.csv',\n",
       " 'TORQUE/TAG_DATA/RM02-09-1_TRQ_TAG_DATA_20151101_20151201.csv',\n",
       " 'TORQUE/TAG_DATA/RM02-09-1_TRQ_TAG_DATA_20151201_20160101.csv',\n",
       " 'TORQUE/TAG_DATA/RM02-09-1_TRQ_TAG_DATA_20160101_20160201.csv',\n",
       " 'TORQUE/TAG_DATA/RM02-09-1_TRQ_TAG_DATA_20160201_20160301.csv',\n",
       " 'TORQUE/TAG_DATA/RM02-09-1_TRQ_TAG_DATA_20160301_20160401.csv',\n",
       " 'TORQUE/TAG_DATA/RM02-09-1_TRQ_TAG_DATA_20160401_20160501.csv',\n",
       " 'TORQUE/TAG_DATA/RM02-09-1_TRQ_TAG_DATA_20160501_20160601.csv',\n",
       " 'TORQUE/TAG_DATA/RM02-09-1_TRQ_TAG_DATA_20160601_20160701.csv',\n",
       " 'TORQUE/TAG_DATA/RM02-09-1_TRQ_TAG_DATA_20160701_20160801.csv',\n",
       " 'TORQUE/TAG_DATA/RM02-09-1_TRQ_TAG_DATA_20160801_20160901.csv',\n",
       " 'TORQUE/TAG_DATA/RM02-09-1_TRQ_TAG_DATA_20160901_20161001.csv',\n",
       " 'TORQUE/TAG_DATA/RM02-09-1_TRQ_TAG_DATA_20161001_20161101.csv',\n",
       " 'TORQUE/TAG_DATA/RM02-09-1_TRQ_TAG_DATA_20161101_20161201.csv',\n",
       " 'TORQUE/TAG_DATA/RM02-09-1_TRQ_TAG_DATA_20161201_20170101.csv',\n",
       " 'TORQUE/TAG_DATA/RM02-09-1_TRQ_TAG_DATA_20170101_20170201.csv',\n",
       " 'TORQUE/TAG_DATA/RM02-09-1_TRQ_TAG_DATA_20170201_20170301.csv',\n",
       " 'TORQUE/TAG_DATA/RM02-09-1_TRQ_TAG_DATA_20170301_20170401.csv',\n",
       " 'TORQUE/TAG_DATA/RM02-09-1_TRQ_TAG_DATA_20170401_20170501.csv',\n",
       " 'TORQUE/TAG_DATA/RM02-09-1_TRQ_TAG_DATA_20170501_20170601.csv',\n",
       " 'TORQUE/TAG_DATA/RM02-09-1_TRQ_TAG_DATA_20170601_20170701.csv',\n",
       " 'TORQUE/TAG_DATA/RM02-09-1_TRQ_TAG_DATA_20170701_20170801.csv',\n",
       " 'TORQUE/TAG_DATA/RM02-09-1_TRQ_TAG_DATA_20170801_20170901.csv',\n",
       " 'TORQUE/TAG_DATA/RM02-09-1_TRQ_TAG_DATA_20170901_20171001.csv',\n",
       " 'TORQUE/TAG_DATA/RM02-09-1_TRQ_TAG_DATA_20171001_20171101.csv',\n",
       " 'TORQUE/TAG_DATA/RM02-09-1_TRQ_TAG_DATA_20171101_20171201.csv',\n",
       " 'TORQUE/TAG_DATA/RM02-09-1_TRQ_TAG_DATA_20171201_20180101.csv',\n",
       " 'TORQUE/TAG_DATA/RM02-09-1_TRQ_TAG_DATA_20180101_20180201.csv',\n",
       " 'TORQUE/TAG_DATA/RM02-09-1_TRQ_TAG_DATA_20180201_20180301.csv',\n",
       " 'TORQUE/TAG_DATA/RM02-09-1_TRQ_TAG_DATA_20180301_20180401.csv',\n",
       " 'TORQUE/TAG_DATA/RM02-09-1_TRQ_TAG_DATA_20180401_20180501.csv',\n",
       " 'TORQUE/TAG_DATA/RM02-09-1_TRQ_TAG_DATA_20180501_20180601.csv',\n",
       " 'TORQUE/TAG_DATA/RM02-09-1_TRQ_TAG_DATA_20180601_20180701.csv',\n",
       " 'TORQUE/TAG_DATA/RM02-09-1_TRQ_TAG_DATA_20180701_20180801.csv',\n",
       " 'TORQUE/TAG_DATA/RM02-09-1_TRQ_TAG_DATA_20180801_20180901.csv',\n",
       " 'TORQUE/TAG_DATA/RM02-09-1_TRQ_TAG_DATA_20180901_20181001.csv',\n",
       " 'TORQUE/TAG_DATA/RM02-09-1_TRQ_TAG_DATA_20181001_20181101.csv',\n",
       " 'TORQUE/TAG_DATA/RM02-09-1_TRQ_TAG_DATA_20181101_20181201.csv',\n",
       " 'TORQUE/TAG_DATA/RM02-09-1_TRQ_TAG_DATA_20181201_20190101.csv',\n",
       " 'TORQUE/TAG_DATA/RM02-09-1_TRQ_TAG_DATA_20190101_20190201.csv',\n",
       " 'TORQUE/TAG_DATA/RM02-09-1_TRQ_TAG_DATA_20190201_20190301.csv',\n",
       " 'TORQUE/TAG_DATA/RM02-09-1_TRQ_TAG_DATA_20190301_20190401.csv',\n",
       " 'TORQUE/TAG_DATA/RM02-09-1_TRQ_TAG_DATA_20190401_20190501.csv',\n",
       " 'TORQUE/TAG_DATA/RM02-09-1_TRQ_TAG_DATA_20190501_20190601.csv',\n",
       " 'TORQUE/TAG_DATA/RM02-09-1_TRQ_TAG_DATA_20190601_20190701.csv',\n",
       " 'TORQUE/TAG_DATA/RM02-09-1_TRQ_TAG_DATA_20190701_20190801.csv',\n",
       " 'TORQUE/TAG_DATA/RM02-09-1_TRQ_TAG_DATA_20190801_20190901.csv',\n",
       " 'TORQUE/TAG_DATA/RM02-09-1_TRQ_TAG_DATA_20190901_20191001.csv',\n",
       " 'TORQUE/TAG_DATA/RM02-09-1_TRQ_TAG_DATA_20191001_20191101.csv',\n",
       " 'TORQUE/TAG_DATA/RM02-09-1_TRQ_TAG_DATA_20191101_20191201.csv',\n",
       " 'TORQUE/TAG_DATA/RM02-09-1_TRQ_TAG_DATA_20191201_20200101.csv',\n",
       " 'TORQUE/TAG_DATA/RM02-09-1_TRQ_TAG_DATA_20200101_20200201.csv',\n",
       " 'TORQUE/TAG_DATA/RM02-09-1_TRQ_TAG_DATA_20200201_20200301.csv',\n",
       " 'TORQUE/TAG_DATA/RM02-09-1_TRQ_TAG_DATA_20200301_20200401.csv',\n",
       " 'TORQUE/TAG_DATA/RM02-09-1_TRQ_TAG_DATA_20200401_20200501.csv',\n",
       " 'TORQUE/TAG_DATA/RM02-09-1_TRQ_TAG_DATA_20200501_20200601.csv',\n",
       " 'TORQUE/TAG_DATA/RM02-09-1_TRQ_TAG_DATA_20200601_20200701.csv',\n",
       " 'TORQUE/TAG_DATA/RM02-09-1_TRQ_TAG_DATA_20200701_20200801.csv',\n",
       " 'TORQUE/TAG_DATA/RM02-09-1_TRQ_TAG_DATA_20200801_20200901.csv',\n",
       " 'TORQUE/TAG_DATA/RM02-09-1_TRQ_TAG_DATA_20200901_20201001.csv',\n",
       " 'TORQUE/TAG_DATA/RM02-09-1_TRQ_TAG_DATA_20201001_20201101.csv',\n",
       " 'TORQUE/TAG_DATA/RM02-09-1_TRQ_TAG_DATA_20201101_20201201.csv',\n",
       " 'TORQUE/TAG_DATA/RM02-09-1_TRQ_TAG_DATA_20201201_20210101.csv',\n",
       " 'TORQUE/TAG_DATA/RM02-09-1_TRQ_TAG_DATA_20210101_20210201.csv',\n",
       " 'TORQUE/TAG_DATA/RM02-09-1_TRQ_TAG_DATA_20210201_20210301.csv',\n",
       " 'TORQUE/TAG_DATA/RM02-09-1_TRQ_TAG_DATA_20210301_20210401.csv',\n",
       " 'TORQUE/TAG_DATA/RM02-09-1_TRQ_TAG_DATA_20210401_20210501.csv',\n",
       " 'TORQUE/TAG_DATA/RM02-09-1_TRQ_TAG_DATA_20210501_20210601.csv',\n",
       " 'TORQUE/TAG_DATA/RM02-09-1_TRQ_TAG_DATA_20210601_20210701.csv',\n",
       " 'TORQUE/TAG_DATA/RM02-09-1_TRQ_TAG_DATA_20210701_20210801.csv',\n",
       " 'TORQUE/TAG_DATA/RM02-09-1_TRQ_TAG_DATA_20210801_20210901.csv',\n",
       " 'TORQUE/TAG_DATA/RM02-09-1_TRQ_TAG_DATA_20210901_20211001.csv',\n",
       " 'TORQUE/TAG_DATA/RM02-09-1_TRQ_TAG_DATA_20211001_20211101.csv',\n",
       " 'TORQUE/TAG_DATA/RM02-09-1_TRQ_TAG_DATA_20211101_20211201.csv',\n",
       " 'TORQUE/TAG_DATA/RM02-09-1_TRQ_TAG_DATA_20211201_20220101.csv',\n",
       " 'TORQUE/TAG_DATA/RM02-09-1_TRQ_TAG_DATA_20220101_20220201.csv',\n",
       " 'TORQUE/TAG_DATA/RM02-09-1_TRQ_TAG_DATA_20220201_20220301.csv',\n",
       " 'TORQUE/TAG_DATA/RM02-09-1_TRQ_TAG_DATA_20220301_20220401.csv',\n",
       " 'TORQUE/TAG_DATA/RM02-09-1_TRQ_TAG_DATA_20220401_20220501.csv',\n",
       " 'TORQUE/TAG_DATA/RM02-09-1_TRQ_TAG_DATA_20220501_20220601.csv',\n",
       " 'TORQUE/TAG_DATA/RM02-09-1_TRQ_TAG_DATA_20220601_20220701.csv',\n",
       " 'TORQUE/TAG_DATA/RM02-09-1_TRQ_TAG_DATA_20220701_20220801.csv',\n",
       " 'TORQUE/TAG_DATA/RM02-09-1_TRQ_TAG_DATA_20220801_20220901.csv',\n",
       " 'TORQUE/TAG_DATA/RM02-09-1_TRQ_TAG_DATA_20220901_20221001.csv',\n",
       " 'TORQUE/TAG_DATA/RM02-09-1_TRQ_TAG_DATA_LAST.csv']"
      ]
     },
     "execution_count": 27,
     "metadata": {},
     "output_type": "execute_result"
    }
   ],
   "source": [
    "manager.list_files(prefix='TORQUE/TAG_DATA', file_prefix='RM02-09-1')"
>>>>>>> 5a97d8fc5a28ec8663078b5c253462e9e0bdc3e0
   ]
  },
  {
   "cell_type": "code",
   "execution_count": null,
   "metadata": {},
   "outputs": [],
   "source": [
<<<<<<< HEAD
    "data = dataset.read_data(\"RM01-05-4\",\"2017-03-01\",\"2017-04-01\",True)"
=======
    "manager.list_dir(\"TORQUE/LABEL_DATA\")"
   ]
  },
  {
   "cell_type": "code",
   "execution_count": 7,
   "metadata": {},
   "outputs": [],
   "source": [
    "import config.__config__ as base_config\n",
    "config = base_config.init()\n",
    "connection = aauconnect_(config['cfg_s3_info'])\n",
    "dataset = Dataset(connection, config['cfg_s3_info']['path'], config['cfg_s3_info']['file_prefix'], config['cfg_s3_info']['file_suffix'], datetime_index_column=\"TS\", bucket=config['cfg_s3_info'][\"bucket\"])"
   ]
  },
  {
   "cell_type": "code",
   "execution_count": 21,
   "metadata": {},
   "outputs": [
    {
     "name": "stdout",
     "output_type": "stream",
     "text": [
      "An error occurred (NoSuchKey) when calling the GetObject operation: The specified key does not exist.\n",
      "An error occurred (NoSuchKey) when calling the GetObject operation: The specified key does not exist.\n",
      "An error occurred (NoSuchKey) when calling the GetObject operation: The specified key does not exist.\n",
      "An error occurred (NoSuchKey) when calling the GetObject operation: The specified key does not exist.\n",
      "An error occurred (NoSuchKey) when calling the GetObject operation: The specified key does not exist.\n",
      "An error occurred (NoSuchKey) when calling the GetObject operation: The specified key does not exist.\n",
      "An error occurred (NoSuchKey) when calling the GetObject operation: The specified key does not exist.\n",
      "An error occurred (NoSuchKey) when calling the GetObject operation: The specified key does not exist.\n",
      "An error occurred (NoSuchKey) when calling the GetObject operation: The specified key does not exist.\n",
      "An error occurred (NoSuchKey) when calling the GetObject operation: The specified key does not exist.\n",
      "An error occurred (NoSuchKey) when calling the GetObject operation: The specified key does not exist.\n",
      "An error occurred (NoSuchKey) when calling the GetObject operation: The specified key does not exist.\n",
      "An error occurred (NoSuchKey) when calling the GetObject operation: The specified key does not exist.\n",
      "An error occurred (NoSuchKey) when calling the GetObject operation: The specified key does not exist.\n",
      "An error occurred (NoSuchKey) when calling the GetObject operation: The specified key does not exist.\n",
      "An error occurred (NoSuchKey) when calling the GetObject operation: The specified key does not exist.\n",
      "An error occurred (NoSuchKey) when calling the GetObject operation: The specified key does not exist.\n",
      "An error occurred (NoSuchKey) when calling the GetObject operation: The specified key does not exist.\n"
     ]
    }
   ],
   "source": [
    "data = dataset.read_data(\"RM01-05-4\",\"2016-01-01\",\"2023-02-01\",False)"
   ]
  },
  {
   "cell_type": "code",
   "execution_count": 25,
   "metadata": {},
   "outputs": [],
   "source": [
    "for well in data: \n",
    "    if data[well] is not None:\n",
    "        data[well].to_csv(f\"TORQUE/TAG_DATA/{well}\",index=False)"
   ]
  },
  {
   "cell_type": "code",
   "execution_count": 28,
   "metadata": {},
   "outputs": [
    {
     "data": {
      "text/plain": [
       "{'RM01-05-4':                         TS\n",
       " 0  2022-09-25 23:06:34.789}"
      ]
     },
     "execution_count": 28,
     "metadata": {},
     "output_type": "execute_result"
    }
   ],
   "source": [
    "dataset.read_metadata(\"RM01-05-4\")"
>>>>>>> 5a97d8fc5a28ec8663078b5c253462e9e0bdc3e0
   ]
  },
  {
   "cell_type": "code",
   "execution_count": null,
   "metadata": {},
   "outputs": [],
<<<<<<< HEAD
   "source": [
    "plot_data = dataset.process_data(data)"
   ]
  },
  {
   "cell_type": "code",
   "execution_count": null,
   "metadata": {},
   "outputs": [],
   "source": [
    "plt.plot(plot_data.loc[\"2017-03-31\", \"TORQUE_ROD\"])"
   ]
  },
  {
   "cell_type": "code",
   "execution_count": null,
   "metadata": {},
   "outputs": [],
   "source": [
    "plt.figure(figsize=(15,15))\n",
    "plt.plot(data.TORQUE_ROD)"
   ]
  },
  {
   "cell_type": "code",
   "execution_count": null,
   "metadata": {},
   "outputs": [],
   "source": [
    "dataset"
   ]
=======
   "source": []
>>>>>>> 5a97d8fc5a28ec8663078b5c253462e9e0bdc3e0
  }
 ],
 "metadata": {
  "kernelspec": {
<<<<<<< HEAD
   "display_name": "venv",
=======
   "display_name": "Python 3.10.7 ('venv': venv)",
>>>>>>> 5a97d8fc5a28ec8663078b5c253462e9e0bdc3e0
   "language": "python",
   "name": "python3"
  },
  "language_info": {
   "codemirror_mode": {
    "name": "ipython",
    "version": 3
   },
   "file_extension": ".py",
   "mimetype": "text/x-python",
   "name": "python",
   "nbconvert_exporter": "python",
   "pygments_lexer": "ipython3",
<<<<<<< HEAD
   "version": "3.10.8"
=======
   "version": "3.10.7"
>>>>>>> 5a97d8fc5a28ec8663078b5c253462e9e0bdc3e0
  },
  "orig_nbformat": 4,
  "vscode": {
   "interpreter": {
<<<<<<< HEAD
    "hash": "1b8e82fe965d67b4d52727d9e01393d93b5bd7738491028c5420b39b71b9499d"
=======
    "hash": "adae452ee327b41c4a5f6276496f142cf223bdf8951d0645ece1864fc3818bdf"
>>>>>>> 5a97d8fc5a28ec8663078b5c253462e9e0bdc3e0
   }
  }
 },
 "nbformat": 4,
 "nbformat_minor": 2
}
